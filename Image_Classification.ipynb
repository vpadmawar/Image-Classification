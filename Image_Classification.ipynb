{
  "nbformat": 4,
  "nbformat_minor": 0,
  "metadata": {
    "colab": {
      "name": "Image Classification.ipynb",
      "provenance": [],
      "authorship_tag": "ABX9TyNFC2lDnZ+Rgpl4fh5XrZop",
      "include_colab_link": true
    },
    "kernelspec": {
      "name": "python3",
      "display_name": "Python 3"
    }
  },
  "cells": [
    {
      "cell_type": "markdown",
      "metadata": {
        "id": "view-in-github",
        "colab_type": "text"
      },
      "source": [
        "<a href=\"https://colab.research.google.com/github/vpadmawar/Image-Classification/blob/main/Image_Classification.ipynb\" target=\"_parent\"><img src=\"https://colab.research.google.com/assets/colab-badge.svg\" alt=\"Open In Colab\"/></a>"
      ]
    },
    {
      "cell_type": "code",
      "metadata": {
        "colab": {
          "base_uri": "https://localhost:8080/"
        },
        "id": "MZOOwoKGqRZW",
        "outputId": "67af27c9-c6d1-4ba8-88ab-74848d8d10b6"
      },
      "source": [
        "# This will show you the time for excetuing the cell\r\n",
        "!pip install ipython-autotime\r\n",
        "%load_ext autotime"
      ],
      "execution_count": 1,
      "outputs": [
        {
          "output_type": "stream",
          "text": [
            "Collecting ipython-autotime\n",
            "  Downloading https://files.pythonhosted.org/packages/b4/c9/b413a24f759641bc27ef98c144b590023c8038dfb8a3f09e713e9dff12c1/ipython_autotime-0.3.1-py2.py3-none-any.whl\n",
            "Requirement already satisfied: ipython in /usr/local/lib/python3.6/dist-packages (from ipython-autotime) (5.5.0)\n",
            "Requirement already satisfied: pexpect; sys_platform != \"win32\" in /usr/local/lib/python3.6/dist-packages (from ipython->ipython-autotime) (4.8.0)\n",
            "Requirement already satisfied: setuptools>=18.5 in /usr/local/lib/python3.6/dist-packages (from ipython->ipython-autotime) (53.0.0)\n",
            "Requirement already satisfied: decorator in /usr/local/lib/python3.6/dist-packages (from ipython->ipython-autotime) (4.4.2)\n",
            "Requirement already satisfied: prompt-toolkit<2.0.0,>=1.0.4 in /usr/local/lib/python3.6/dist-packages (from ipython->ipython-autotime) (1.0.18)\n",
            "Requirement already satisfied: simplegeneric>0.8 in /usr/local/lib/python3.6/dist-packages (from ipython->ipython-autotime) (0.8.1)\n",
            "Requirement already satisfied: pickleshare in /usr/local/lib/python3.6/dist-packages (from ipython->ipython-autotime) (0.7.5)\n",
            "Requirement already satisfied: traitlets>=4.2 in /usr/local/lib/python3.6/dist-packages (from ipython->ipython-autotime) (4.3.3)\n",
            "Requirement already satisfied: pygments in /usr/local/lib/python3.6/dist-packages (from ipython->ipython-autotime) (2.6.1)\n",
            "Requirement already satisfied: ptyprocess>=0.5 in /usr/local/lib/python3.6/dist-packages (from pexpect; sys_platform != \"win32\"->ipython->ipython-autotime) (0.7.0)\n",
            "Requirement already satisfied: wcwidth in /usr/local/lib/python3.6/dist-packages (from prompt-toolkit<2.0.0,>=1.0.4->ipython->ipython-autotime) (0.2.5)\n",
            "Requirement already satisfied: six>=1.9.0 in /usr/local/lib/python3.6/dist-packages (from prompt-toolkit<2.0.0,>=1.0.4->ipython->ipython-autotime) (1.15.0)\n",
            "Requirement already satisfied: ipython-genutils in /usr/local/lib/python3.6/dist-packages (from traitlets>=4.2->ipython->ipython-autotime) (0.2.0)\n",
            "Installing collected packages: ipython-autotime\n",
            "Successfully installed ipython-autotime-0.3.1\n",
            "time: 2.7 ms (started: 2021-02-22 12:35:27 +00:00)\n"
          ],
          "name": "stdout"
        }
      ]
    },
    {
      "cell_type": "markdown",
      "metadata": {
        "id": "WmwMfZNVzkrh"
      },
      "source": [
        " **Bing Downloader to download Images**"
      ]
    },
    {
      "cell_type": "code",
      "metadata": {
        "colab": {
          "base_uri": "https://localhost:8080/"
        },
        "id": "TQi4VB-_qfsD",
        "outputId": "82848ca9-d7f1-4e55-eb1b-4075c7826768"
      },
      "source": [
        "# bing downloader to download the images\r\n",
        "!pip install bing-image-downloader"
      ],
      "execution_count": 2,
      "outputs": [
        {
          "output_type": "stream",
          "text": [
            "Collecting bing-image-downloader\n",
            "  Downloading https://files.pythonhosted.org/packages/0d/bf/537a61030b84ae4cd5022d5c7b014fd9bc3ce7c02358919153a6658a61d3/bing_image_downloader-1.0.4-py3-none-any.whl\n",
            "Installing collected packages: bing-image-downloader\n",
            "Successfully installed bing-image-downloader-1.0.4\n",
            "time: 2.83 s (started: 2021-02-22 12:35:27 +00:00)\n"
          ],
          "name": "stdout"
        }
      ]
    },
    {
      "cell_type": "code",
      "metadata": {
        "colab": {
          "base_uri": "https://localhost:8080/"
        },
        "id": "iiT8xYLVqk4j",
        "outputId": "e4392dc7-07db-4bf6-cc78-5a4c4f34ecbe"
      },
      "source": [
        "!mkdir images"
      ],
      "execution_count": 3,
      "outputs": [
        {
          "output_type": "stream",
          "text": [
            "time: 113 ms (started: 2021-02-22 12:35:30 +00:00)\n"
          ],
          "name": "stdout"
        }
      ]
    },
    {
      "cell_type": "code",
      "metadata": {
        "colab": {
          "base_uri": "https://localhost:8080/"
        },
        "id": "u_4HdsW6qn-_",
        "outputId": "1502c7c3-6a7b-4362-961f-87ed3f8d14f7"
      },
      "source": [
        "from bing_image_downloader import downloader\r\n",
        "downloader.download(\"mango fruit\",limit=30,output_dir='images',adult_filter_off=True)"
      ],
      "execution_count": 4,
      "outputs": [
        {
          "output_type": "stream",
          "text": [
            "\n",
            "\n",
            "[!!]Indexing page: 1\n",
            "\n",
            "[%] Indexed 30 Images on Page 1.\n",
            "\n",
            "===============================================\n",
            "\n",
            "[%] Downloading Image #1 from https://lovebackyard.com/wp-content/uploads/2017/03/honey-mangoes.jpg\n",
            "[%] File Downloaded !\n",
            "\n",
            "[%] Downloading Image #2 from http://www.happylifestyletips.com/wp-content/uploads/2015/05/Mango-an-Antioxidant.jpg\n",
            "[%] File Downloaded !\n",
            "\n",
            "[%] Downloading Image #3 from https://cdn.britannica.com/06/75906-050-16A53398/mango-fruits.jpg\n",
            "[%] File Downloaded !\n",
            "\n",
            "[%] Downloading Image #4 from https://upload.wikimedia.org/wikipedia/commons/c/c3/Mangoes_pic.jpg\n",
            "[%] File Downloaded !\n",
            "\n",
            "[%] Downloading Image #5 from https://www.gardeningknowhow.com/wp-content/uploads/2015/11/mango-harvest.jpg\n",
            "[%] File Downloaded !\n",
            "\n",
            "[%] Downloading Image #6 from http://upload.wikimedia.org/wikipedia/commons/2/21/MangoImmatureFruits.JPG\n",
            "[%] File Downloaded !\n",
            "\n",
            "[%] Downloading Image #7 from https://hdwallpapers.move.pk/wp-content/uploads/2016/06/Pics-of-mango-fruit-HD-wallpaper.jpg\n",
            "[%] File Downloaded !\n",
            "\n",
            "[%] Downloading Image #8 from https://cdn.siasat.com/wp-content/uploads/2020/05/mango-.jpg\n",
            "[%] File Downloaded !\n",
            "\n",
            "[%] Downloading Image #9 from https://cdn.britannica.com/05/75905-050-C7AE0733/Mangoes-tree.jpg\n",
            "[%] File Downloaded !\n",
            "\n",
            "[%] Downloading Image #10 from https://indiachronicles.com/wp-content/uploads/2020/06/mango-fruit-2.jpg\n",
            "[%] File Downloaded !\n",
            "\n",
            "[%] Downloading Image #11 from http://www.brookstropicals.com/wp-content/uploads/2019/06/Tommy-Atkin-mangos-1240x1527.jpg\n",
            "[%] File Downloaded !\n",
            "\n",
            "[%] Downloading Image #12 from https://www.institutefornaturalhealing.com/wp-content/uploads/2014/06/fight-cancer-with-mangoes.jpg\n",
            "[%] File Downloaded !\n",
            "\n",
            "[%] Downloading Image #13 from https://drbaljotbharaj.files.wordpress.com/2013/04/ripe-mango-fruit.jpg\n",
            "[%] File Downloaded !\n",
            "\n",
            "[%] Downloading Image #14 from https://wallpapercave.com/wp/wp2221417.jpg\n",
            "[%] File Downloaded !\n",
            "\n",
            "[%] Downloading Image #15 from https://www.pitara.com/wordpress/wp-content/uploads/2001/11/mango.jpg\n",
            "[%] File Downloaded !\n",
            "\n",
            "[%] Downloading Image #16 from http://1.bp.blogspot.com/-v2Q8eGlCD_w/UQurr_QWS6I/AAAAAAAAAxk/P8taNfu7Hfo/s1600/Green_mango.jpg\n",
            "[%] File Downloaded !\n",
            "\n",
            "[%] Downloading Image #17 from https://sb-assets.sgp1.cdn.digitaloceanspaces.com/product/main_image/1585/a117243e-b4a3-444f-b793-aad61fb66b05.jpg\n",
            "[%] File Downloaded !\n",
            "\n",
            "[%] Downloading Image #18 from https://www.freshfruitportal.com/assets/uploads/2020/08/Mango-shutterstock_73021945.jpg\n",
            "[!] Issue getting: https://www.freshfruitportal.com/assets/uploads/2020/08/Mango-shutterstock_73021945.jpg\n",
            "[!] Error:: HTTP Error 404: Not Found\n",
            "[%] Downloading Image #18 from http://www.dogexpress.in/wp-content/uploads/2016/04/mangoes.jpg\n",
            "[%] File Downloaded !\n",
            "\n",
            "[%] Downloading Image #19 from https://world-crops.com/wp-content/uploads/32-Phitsanulok-mango-fruits.jpg\n",
            "[%] File Downloaded !\n",
            "\n",
            "[%] Downloading Image #20 from https://fofihere.files.wordpress.com/2014/05/delicious-mango.jpg\n",
            "[%] File Downloaded !\n",
            "\n",
            "[%] Downloading Image #21 from https://vespertunes.files.wordpress.com/2015/11/mango_hd_images_background.jpg?w=1400\n",
            "[%] File Downloaded !\n",
            "\n",
            "[%] Downloading Image #22 from http://thesmartergardener.com/wp-content/uploads/2014/02/mango-fruit-Mangifera-indica.jpg\n",
            "[%] File Downloaded !\n",
            "\n",
            "[%] Downloading Image #23 from https://upload.wikimedia.org/wikipedia/commons/1/1b/Mango_fruits.JPG\n",
            "[%] File Downloaded !\n",
            "\n",
            "[%] Downloading Image #24 from http://nicolelana.com/wp-content/uploads/2014/05/mango-photo-5.jpg\n",
            "[%] File Downloaded !\n",
            "\n",
            "[%] Downloading Image #25 from https://www.schoolphotoproject.com/_picture-of-fruits/mango-photo1-l.jpg\n",
            "[%] File Downloaded !\n",
            "\n",
            "[%] Downloading Image #26 from http://www.maribehlla.com/wp-content/uploads/2013/07/Dinamulag-Mango-Phil.-1024x768.jpg\n",
            "[%] File Downloaded !\n",
            "\n",
            "[%] Downloading Image #27 from https://lovebackyard.com/wp-content/uploads/2017/03/mango.jpg\n",
            "[%] File Downloaded !\n",
            "\n",
            "[%] Downloading Image #28 from http://www.gardeningknowhow.com/wp-content/uploads/2013/05/mango-tree.jpg\n",
            "[%] File Downloaded !\n",
            "\n",
            "[%] Downloading Image #29 from http://vineverareviews.com/wp-content/uploads/2014/09/Top-5-Fruits-Mangoes.jpg\n",
            "[%] File Downloaded !\n",
            "\n",
            "\n",
            "\n",
            "[!!]Indexing page: 2\n",
            "\n",
            "[%] Indexed 35 Images on Page 2.\n",
            "\n",
            "===============================================\n",
            "\n",
            "[%] Downloading Image #30 from https://lovebackyard.com/wp-content/uploads/2017/03/honey-mangoes.jpg\n",
            "[%] File Downloaded !\n",
            "\n",
            "\n",
            "\n",
            "[%] Done. Downloaded 30 images.\n",
            "\n",
            "===============================================\n",
            "\n",
            "time: 12.2 s (started: 2021-02-22 12:35:30 +00:00)\n"
          ],
          "name": "stdout"
        }
      ]
    },
    {
      "cell_type": "code",
      "metadata": {
        "colab": {
          "base_uri": "https://localhost:8080/"
        },
        "id": "l-C1bQFDqn7B",
        "outputId": "ed226d8e-6fc1-4b8d-eee4-f85a4cf989bd"
      },
      "source": [
        "downloader.download(\"mobile\",limit=30,output_dir='images',adult_filter_off=True)"
      ],
      "execution_count": 5,
      "outputs": [
        {
          "output_type": "stream",
          "text": [
            "\n",
            "\n",
            "[!!]Indexing page: 1\n",
            "\n",
            "[%] Indexed 30 Images on Page 1.\n",
            "\n",
            "===============================================\n",
            "\n",
            "[%] Downloading Image #1 from https://n2.sdlcdn.com/imgs/a/n/l/Jolla-Sailfish-Mobile-SDL648514332-5-d96cc.jpg\n",
            "[%] File Downloaded !\n",
            "\n",
            "[%] Downloading Image #2 from https://www.cellularcountry.com/images/LG_Venice_AS730_Thin_Android_Smart_Phone_Boost_Mobile_51199_01.jpg\n",
            "[%] File Downloaded !\n",
            "\n",
            "[%] Downloading Image #3 from https://c.pxhere.com/photos/21/73/iphone_smartphone_phone_mobile_phone_technology_touch_screen_mobile-1091005.jpg!d\n",
            "[%] File Downloaded !\n",
            "\n",
            "[%] Downloading Image #4 from https://hackaday.com/wp-content/uploads/2020/06/SC30_5.jpg\n",
            "[%] File Downloaded !\n",
            "\n",
            "[%] Downloading Image #5 from http://unitedmobile.com.pk/wp-content/uploads/2016/03/V10-with-UI-Front-copy.jpg\n",
            "[%] File Downloaded !\n",
            "\n",
            "[%] Downloading Image #6 from http://www.sheffield-systems.co.uk/wp-content/uploads/2017/06/mobile-phones.jpg\n",
            "[%] File Downloaded !\n",
            "\n",
            "[%] Downloading Image #7 from http://www.sammobile.com/wp-content/uploads/2016/04/virgin-mobile-galaxy-j7.jpg\n",
            "[%] File Downloaded !\n",
            "\n",
            "[%] Downloading Image #8 from http://unitedmobile.com.pk/wp-content/uploads/2017/11/voice-v704-united-mobile-image-4.jpg\n",
            "[%] File Downloaded !\n",
            "\n",
            "[%] Downloading Image #9 from https://www.satellitetvshop.co.uk/image/cache/catalog/Flip%20Mobile%20Phone%202%20SIM%20Cards-1000x1000.JPG\n",
            "[%] File Downloaded !\n",
            "\n",
            "[%] Downloading Image #10 from http://unitedmobile.com.pk/wp-content/uploads/2016/03/V55_Front_Black.jpg\n",
            "[%] File Downloaded !\n",
            "\n",
            "[%] Downloading Image #11 from https://ae01.alicdn.com/kf/HTB1yqnhe21G3KVjSZFkq6yK4XXaW/4G-LTE-TEENO-Vmobile-J7-Mobile-Phone-Android-3GB-32GB-5-5-HD-Screen-5800mAh-celular.jpg\n",
            "[%] File Downloaded !\n",
            "\n",
            "[%] Downloading Image #12 from https://cdn.wccftech.com/wp-content/uploads/2016/03/Lumia-950-windows-10-mobile-hero.jpg\n",
            "[%] File Downloaded !\n",
            "\n",
            "[%] Downloading Image #13 from https://www.presentation-guru.com/wp-content/uploads/2016/11/mobile-phones-1000x600.jpg\n",
            "[%] File Downloaded !\n",
            "\n",
            "[%] Downloading Image #14 from https://guardian.ng/wp-content/uploads/2018/06/Mobile-Phones-Main-Article-1.jpg\n",
            "[%] File Downloaded !\n",
            "\n",
            "[%] Downloading Image #15 from https://cdn.teslarati.com/wp-content/uploads/2017/04/tesla-mobile-app-powerwall.jpg\n",
            "[!] Issue getting: https://cdn.teslarati.com/wp-content/uploads/2017/04/tesla-mobile-app-powerwall.jpg\n",
            "[!] Error:: <urlopen error [SSL: CERTIFICATE_VERIFY_FAILED] certificate verify failed (_ssl.c:852)>\n",
            "[%] Downloading Image #15 from https://www.lg.com/in/images/mobile-phones/md06060256/gallery/001_1100x730.jpg\n",
            "[%] File Downloaded !\n",
            "\n",
            "[%] Downloading Image #16 from https://im.rediff.com/money/2013/aug/20mobile9.jpg\n",
            "[%] File Downloaded !\n",
            "\n",
            "[%] Downloading Image #17 from https://androidcommunity.com/wp-content/uploads/2018/08/LG-Q7-Specs.jpg\n",
            "[%] File Downloaded !\n",
            "\n",
            "[%] Downloading Image #18 from https://cdn.pocket-lint.com/r/s/970x/assets/images/68728-phones-review-samsung-p300-mobile-phone-image1-KBLzdJWZ1v.jpg\n",
            "[%] File Downloaded !\n",
            "\n",
            "[%] Downloading Image #19 from https://n3.sdlcdn.com/imgs/a/j/s/LAVA-Dual-SIM-Mobile-Phone-1237374-1-4024a.jpg\n",
            "[%] File Downloaded !\n",
            "\n",
            "[%] Downloading Image #20 from http://blog.trainingdoyens.com/wp-content/uploads/2017/11/Mobile-Learning.jpg\n",
            "[%] File Downloaded !\n",
            "\n",
            "[%] Downloading Image #21 from https://www.ultimatepocket.com/wp-content/uploads/2020/05/lg-stylo-6-from-boost-mobile-available-as-another-budget-phone.jpg\n",
            "[%] File Downloaded !\n",
            "\n",
            "[%] Downloading Image #22 from https://www.cellularcountry.com/images/Kyocera_Torino_S2300_Bluetooth_Messaging_Phone_Virgin_Mobile_35141_04.gif\n",
            "[%] File Downloaded !\n",
            "\n",
            "[%] Downloading Image #23 from https://www.bestmobile.pk/addpost_images/honor-8c-urgent-sale-my-last-demand-is-17000-hwbyd.jpg\n",
            "[%] File Downloaded !\n",
            "\n",
            "[%] Downloading Image #24 from https://cdn.wccftech.com/wp-content/uploads/2016/10/Windows-10-Mobile.jpg\n",
            "[%] File Downloaded !\n",
            "\n",
            "[%] Downloading Image #25 from https://testlio.com/wp-content/uploads/2019/07/mobile-phones.jpg\n",
            "[%] File Downloaded !\n",
            "\n",
            "[%] Downloading Image #26 from https://www.cellularcountry.com/images/Nokia_1208_6884_T_Mobile_03.jpg\n",
            "[%] File Downloaded !\n",
            "\n",
            "[%] Downloading Image #27 from https://www.cellularcountry.com/images/Kyocera_Event_Android_Smartphone_for_Virgin_Mobile_-_Black_35418_02.jpg\n",
            "[%] File Downloaded !\n",
            "\n",
            "[%] Downloading Image #28 from https://ae01.alicdn.com/kf/HTB1wIkNKAPoK1RjSZKbq6x1IXXaI/TEENO-Vmobile-M9-Mobile-Phone-Android-7-0-4GB-64GB-6-2-HD-Full-Screen-4800mAh.jpg\n",
            "[%] File Downloaded !\n",
            "\n",
            "[%] Downloading Image #29 from https://www.dexigner.com/images/article/23451/Autodesk_AutoCAD_360_Mobile_01_gallery.jpg\n",
            "[%] File Downloaded !\n",
            "\n",
            "\n",
            "\n",
            "[!!]Indexing page: 2\n",
            "\n",
            "[%] Indexed 35 Images on Page 2.\n",
            "\n",
            "===============================================\n",
            "\n",
            "[%] Downloading Image #30 from https://n2.sdlcdn.com/imgs/a/n/l/Jolla-Sailfish-Mobile-SDL648514332-5-d96cc.jpg\n",
            "[%] File Downloaded !\n",
            "\n",
            "\n",
            "\n",
            "[%] Done. Downloaded 30 images.\n",
            "\n",
            "===============================================\n",
            "\n",
            "time: 11.1 s (started: 2021-02-22 12:35:42 +00:00)\n"
          ],
          "name": "stdout"
        }
      ]
    },
    {
      "cell_type": "code",
      "metadata": {
        "colab": {
          "base_uri": "https://localhost:8080/"
        },
        "id": "SRjXwtDLqn48",
        "outputId": "08965f7f-a687-479e-c92e-95516c8b6ad6"
      },
      "source": [
        "downloader.download(\"red rose\",limit=30,output_dir='images',adult_filter_off=True)"
      ],
      "execution_count": 6,
      "outputs": [
        {
          "output_type": "stream",
          "text": [
            "\n",
            "\n",
            "[!!]Indexing page: 1\n",
            "\n",
            "[%] Indexed 30 Images on Page 1.\n",
            "\n",
            "===============================================\n",
            "\n",
            "[%] Downloading Image #1 from https://shakespeareoxfordfellowship.org/wp-content/uploads/rose_Awesome-Red.jpg\n",
            "[%] File Downloaded !\n",
            "\n",
            "[%] Downloading Image #2 from https://flyingflowers.co.nz/content/images/thumbs/0004092_red-roses.jpeg\n",
            "[%] File Downloaded !\n",
            "\n",
            "[%] Downloading Image #3 from https://www.photos-public-domain.com/wp-content/uploads/2010/11/red_rose_in_bloom.jpg\n",
            "[%] File Downloaded !\n",
            "\n",
            "[%] Downloading Image #4 from https://www.artstems.com.au/wp-content/uploads/2018/11/24roses_2.jpg\n",
            "[%] File Downloaded !\n",
            "\n",
            "[%] Downloading Image #5 from http://ghk.h-cdn.co/assets/17/01/red-roses.jpg\n",
            "[%] File Downloaded !\n",
            "\n",
            "[%] Downloading Image #6 from https://upload.wikimedia.org/wikipedia/commons/thumb/7/78/Beauty_of_Red_Rose.jpg/1200px-Beauty_of_Red_Rose.jpg\n",
            "[Error]Invalid image, not saving https://upload.wikimedia.org/wikipedia/commons/thumb/7/78/Beauty_of_Red_Rose.jpg/1200px-Beauty_of_Red_Rose.jpg\n",
            "\n",
            "[!] Issue getting: https://upload.wikimedia.org/wikipedia/commons/thumb/7/78/Beauty_of_Red_Rose.jpg/1200px-Beauty_of_Red_Rose.jpg\n",
            "[!] Error:: No active exception to reraise\n",
            "[%] Downloading Image #6 from https://memoriesaremadeofthisblog.files.wordpress.com/2012/06/red-rose_1380x1551.jpg\n",
            "[%] File Downloaded !\n",
            "\n",
            "[%] Downloading Image #7 from https://i1.wp.com/entertainmentmesh.com/wp-content/uploads/2017/01/Red-roses.jpg\n",
            "[%] File Downloaded !\n",
            "\n",
            "[%] Downloading Image #8 from http://www.publicdomainpictures.net/pictures/40000/velka/beautiful-red-rose.jpg\n",
            "[%] File Downloaded !\n",
            "\n",
            "[%] Downloading Image #9 from https://2.bp.blogspot.com/-MjtyX0aVBTQ/Uah5Si6T4XI/AAAAAAAAH5o/AGlwArfI8MM/s1600/red+rose.jpg\n",
            "[%] File Downloaded !\n",
            "\n",
            "[%] Downloading Image #10 from http://www.fabiovisentin.com/photography/photo/20/red-roses-and-narcissus-bouquet-dsc01441.jpg\n",
            "[%] File Downloaded !\n",
            "\n",
            "[%] Downloading Image #11 from https://c.stocksy.com/a/OxH200/z9/545686.jpg\n",
            "[%] File Downloaded !\n",
            "\n",
            "[%] Downloading Image #12 from http://2.bp.blogspot.com/-c5KGHqKYP14/Uah5v-ZMbII/AAAAAAAAH6A/vk35IyX4Xt0/s1600/valentine-red-rose-2.jpg\n",
            "[%] File Downloaded !\n",
            "\n",
            "[%] Downloading Image #13 from http://4.bp.blogspot.com/-cUpJNmUjBxo/UaG1LGRpa0I/AAAAAAAAZLg/Z6VaUuaJeg4/s1600/one+red+rose+shows+love+12+red+roses+show+gratitude+25+red+roses+mean+congratulations+and+a+bouquet+of+50+red+roses+show+unconditional+love.jpg\n",
            "[%] File Downloaded !\n",
            "\n",
            "[%] Downloading Image #14 from http://3.bp.blogspot.com/-RHTc0HJizio/UZ4b_u08BQI/AAAAAAAAPQk/g21ku1sURIk/s1600/red-rose154388.jpg\n",
            "[%] File Downloaded !\n",
            "\n",
            "[%] Downloading Image #15 from https://www.lovethispic.com/uploaded_images/66613-A-Single-Red-Rose.jpg\n",
            "[%] File Downloaded !\n",
            "\n",
            "[%] Downloading Image #16 from https://assets.winni.in/c_limit,dpr_1,fl_progressive,q_80,w_1000/30419_absolutely-beautiful-a-bouquet-of-30-red-roses.jpeg\n",
            "[%] File Downloaded !\n",
            "\n",
            "[%] Downloading Image #17 from http://www.superiorwallpapers.com/download/beautiful-red-rose-with-raindrops-in-the-garden-1920x1200.jpg\n",
            "[%] File Downloaded !\n",
            "\n",
            "[%] Downloading Image #18 from https://auspicgifts.com/wp-content/uploads/2019/04/50-Red-roses-bouquet.jpg\n",
            "[%] File Downloaded !\n",
            "\n",
            "[%] Downloading Image #19 from https://wallpapertag.com/wallpaper/full/d/c/0/659268-free-red-rose-on-black-background-1920x1200.jpg\n",
            "[%] File Downloaded !\n",
            "\n",
            "[%] Downloading Image #20 from https://agrikendra.com/wp-content/uploads/2018/08/red-rose.jpg\n",
            "[%] File Downloaded !\n",
            "\n",
            "[%] Downloading Image #21 from https://c4.provenwinners.com/sites/provenwinners.com/files/imagecache/low-resolution/ifa_upload/oso_easy_double_red_rose-_0.jpg\n",
            "[%] File Downloaded !\n",
            "\n",
            "[%] Downloading Image #22 from http://4.bp.blogspot.com/-JbKkbCikh-I/T9r4j1Yc3GI/AAAAAAAAAUs/LKj455XSFXI/s1600/Red-rose%2BU.jpg\n",
            "[%] File Downloaded !\n",
            "\n",
            "[%] Downloading Image #23 from http://4.bp.blogspot.com/-f64ZG_hKeoA/UcgjuMvEtCI/AAAAAAAAD5k/umJwWUvrCYo/s1600/Red-Rose-wallpapers%2B(4).jpg\n",
            "[%] File Downloaded !\n",
            "\n",
            "[%] Downloading Image #24 from https://cdn.appleyardflowers.com/media/catalog/product/cache/5/image/9df78eab33525d08d6e5fb8d27136e95/1/0/100_red_roses_1.jpg\n",
            "[%] File Downloaded !\n",
            "\n",
            "[%] Downloading Image #25 from https://images.fineartamerica.com/images-medium-large-5/single-red-rose-janna-scott.jpg\n",
            "[%] File Downloaded !\n",
            "\n",
            "[%] Downloading Image #26 from https://wallpapertag.com/wallpaper/full/6/5/d/642542-most-popular-red-rose-flower-background-3840x2160-for-computer.jpg\n",
            "[%] File Downloaded !\n",
            "\n",
            "[%] Downloading Image #27 from https://4.bp.blogspot.com/-kg-l715jtHc/UJXfAS4gEeI/AAAAAAAAWQA/sNqT2i1KCjM/s1600/red_rose.jpg\n",
            "[%] File Downloaded !\n",
            "\n",
            "[%] Downloading Image #28 from https://torange.biz/photofxnew/2/HD/red-rose-2494.jpg\n",
            "[%] File Downloaded !\n",
            "\n",
            "[%] Downloading Image #29 from http://4.bp.blogspot.com/-lemnRQeU2hQ/UZ4VDhm7WxI/AAAAAAAAPAk/gFc31EZXG4I/s1600/Rosa-Barkarole-free-red-rose-flower-wallpaper-1600x12004211.jpg\n",
            "[%] File Downloaded !\n",
            "\n",
            "\n",
            "\n",
            "[!!]Indexing page: 2\n",
            "\n",
            "[%] Indexed 35 Images on Page 2.\n",
            "\n",
            "===============================================\n",
            "\n",
            "[%] Downloading Image #30 from http://ghk.h-cdn.co/assets/17/01/red-roses.jpg\n",
            "[%] File Downloaded !\n",
            "\n",
            "\n",
            "\n",
            "[%] Done. Downloaded 30 images.\n",
            "\n",
            "===============================================\n",
            "\n",
            "time: 12.3 s (started: 2021-02-22 12:35:53 +00:00)\n"
          ],
          "name": "stdout"
        }
      ]
    },
    {
      "cell_type": "code",
      "metadata": {
        "colab": {
          "base_uri": "https://localhost:8080/"
        },
        "id": "Jc3QHGJPrykR",
        "outputId": "69d6b87a-98d9-4e7e-a34d-ef6428cd760a"
      },
      "source": [
        "%ls images"
      ],
      "execution_count": 7,
      "outputs": [
        {
          "output_type": "stream",
          "text": [
            "\u001b[0m\u001b[01;34m'mango fruit'\u001b[0m/   \u001b[01;34mmobile\u001b[0m/  \u001b[01;34m'red rose'\u001b[0m/\n",
            "time: 120 ms (started: 2021-02-22 12:36:05 +00:00)\n"
          ],
          "name": "stdout"
        }
      ]
    },
    {
      "cell_type": "markdown",
      "metadata": {
        "id": "2JZ4imjqzwWQ"
      },
      "source": [
        "**Preprocessing**"
      ]
    },
    {
      "cell_type": "code",
      "metadata": {
        "colab": {
          "base_uri": "https://localhost:8080/"
        },
        "id": "51sdHD9Yqn22",
        "outputId": "57d01f93-b2d0-4721-fbab-61aa92d0c7e2"
      },
      "source": [
        "# Preprocessing\r\n",
        "# 1. Resize\r\n",
        "# 2. Flatten\r\n",
        "\r\n",
        "import os\r\n",
        "import matplotlib.pyplot as plt\r\n",
        "import numpy as np\r\n",
        "from skimage.io import imread\r\n",
        "from skimage.transform import resize\r\n",
        "\r\n",
        "target = []\r\n",
        "images = []\r\n",
        "flat_data = []\r\n",
        "\r\n",
        "DATADIR = '/content/images'\r\n",
        "CATEGORIES = ['mango fruit','mobile','red rose']\r\n",
        "\r\n",
        "for category in CATEGORIES:\r\n",
        "  class_num = CATEGORIES.index(category)   # Label encoding the values\r\n",
        "  path = os.path.join(DATADIR,category)  # Create path to use all the images\r\n",
        "  for img in os.listdir(path):\r\n",
        "    img_array = imread(os.path.join(path,img))\r\n",
        "    #print(img_array.shape)\r\n",
        "    #plt.imshow(img_array)\r\n",
        "    img_resized = resize(img_array,(150,150,3))    # Normalize the value from 0 to 1\r\n",
        "    flat_data.append(img_resized.flatten())\r\n",
        "    images.append(img_resized)\r\n",
        "    target.append(class_num)\r\n",
        "\r\n",
        "flat_data = np.array(flat_data)\r\n",
        "target = np.array(target)\r\n",
        "images = np.array(images)"
      ],
      "execution_count": 8,
      "outputs": [
        {
          "output_type": "stream",
          "text": [
            "time: 1min (started: 2021-02-22 12:36:06 +00:00)\n"
          ],
          "name": "stdout"
        }
      ]
    },
    {
      "cell_type": "code",
      "metadata": {
        "colab": {
          "base_uri": "https://localhost:8080/"
        },
        "id": "qJyrw1tcqnze",
        "outputId": "bc3801c9-5030-4e28-f84f-657e022abc91"
      },
      "source": [
        "len(flat_data[0])"
      ],
      "execution_count": 9,
      "outputs": [
        {
          "output_type": "execute_result",
          "data": {
            "text/plain": [
              "67500"
            ]
          },
          "metadata": {
            "tags": []
          },
          "execution_count": 9
        },
        {
          "output_type": "stream",
          "text": [
            "time: 13.4 ms (started: 2021-02-22 12:37:06 +00:00)\n"
          ],
          "name": "stdout"
        }
      ]
    },
    {
      "cell_type": "code",
      "metadata": {
        "colab": {
          "base_uri": "https://localhost:8080/"
        },
        "id": "PakqP0ylqnxq",
        "outputId": "b17dc091-bd19-43ef-e2ee-fa12d2458b78"
      },
      "source": [
        "150*130*3"
      ],
      "execution_count": 10,
      "outputs": [
        {
          "output_type": "execute_result",
          "data": {
            "text/plain": [
              "58500"
            ]
          },
          "metadata": {
            "tags": []
          },
          "execution_count": 10
        },
        {
          "output_type": "stream",
          "text": [
            "time: 2.71 ms (started: 2021-02-22 12:37:06 +00:00)\n"
          ],
          "name": "stdout"
        }
      ]
    },
    {
      "cell_type": "code",
      "metadata": {
        "colab": {
          "base_uri": "https://localhost:8080/"
        },
        "id": "lXr1TEzRqnth",
        "outputId": "d1fe4a0a-bf6d-4d8a-fda2-cddaf1fc0a39"
      },
      "source": [
        "target"
      ],
      "execution_count": 11,
      "outputs": [
        {
          "output_type": "execute_result",
          "data": {
            "text/plain": [
              "array([0, 0, 0, 0, 0, 0, 0, 0, 0, 0, 0, 0, 0, 0, 0, 0, 0, 0, 0, 0, 0, 0,\n",
              "       0, 0, 0, 0, 0, 0, 0, 0, 1, 1, 1, 1, 1, 1, 1, 1, 1, 1, 1, 1, 1, 1,\n",
              "       1, 1, 1, 1, 1, 1, 1, 1, 1, 1, 1, 1, 1, 1, 1, 1, 2, 2, 2, 2, 2, 2,\n",
              "       2, 2, 2, 2, 2, 2, 2, 2, 2, 2, 2, 2, 2, 2, 2, 2, 2, 2, 2, 2, 2, 2,\n",
              "       2, 2])"
            ]
          },
          "metadata": {
            "tags": []
          },
          "execution_count": 11
        },
        {
          "output_type": "stream",
          "text": [
            "time: 3.33 ms (started: 2021-02-22 12:37:07 +00:00)\n"
          ],
          "name": "stdout"
        }
      ]
    },
    {
      "cell_type": "code",
      "metadata": {
        "colab": {
          "base_uri": "https://localhost:8080/",
          "height": 299
        },
        "id": "z0ChvoGlqnqV",
        "outputId": "776f3f86-bfe5-4de7-9d60-1b4705075bab"
      },
      "source": [
        "unique, count = np.unique(target,return_counts=True)\r\n",
        "plt.bar(CATEGORIES,count)"
      ],
      "execution_count": 12,
      "outputs": [
        {
          "output_type": "execute_result",
          "data": {
            "text/plain": [
              "<BarContainer object of 3 artists>"
            ]
          },
          "metadata": {
            "tags": []
          },
          "execution_count": 12
        },
        {
          "output_type": "display_data",
          "data": {
            "image/png": "[encoded data removed]",
            "text/plain": [
              "<Figure size 432x288 with 1 Axes>"
            ]
          },
          "metadata": {
            "tags": [],
            "needs_background": "light"
          }
        },
        {
          "output_type": "stream",
          "text": [
            "time: 175 ms (started: 2021-02-22 12:37:07 +00:00)\n"
          ],
          "name": "stdout"
        }
      ]
    },
    {
      "cell_type": "markdown",
      "metadata": {
        "id": "BxcQbEx4z5X2"
      },
      "source": [
        "**Splitting of Dataset**"
      ]
    },
    {
      "cell_type": "code",
      "metadata": {
        "colab": {
          "base_uri": "https://localhost:8080/"
        },
        "id": "u8zgLB9rqnoS",
        "outputId": "4a633072-895d-48cc-c184-c4a8f9f79106"
      },
      "source": [
        "# Split data into Training and Testing\r\n",
        "from sklearn.model_selection import train_test_split\r\n",
        "x_train,x_test,y_train,y_test = train_test_split(flat_data,target,\r\n",
        "                                            test_size=0.3,random_state=109)"
      ],
      "execution_count": 13,
      "outputs": [
        {
          "output_type": "stream",
          "text": [
            "time: 239 ms (started: 2021-02-22 12:37:30 +00:00)\n"
          ],
          "name": "stdout"
        }
      ]
    },
    {
      "cell_type": "markdown",
      "metadata": {
        "id": "S_R4T2YP0BQl"
      },
      "source": [
        "**SVM**"
      ]
    },
    {
      "cell_type": "code",
      "metadata": {
        "colab": {
          "base_uri": "https://localhost:8080/"
        },
        "id": "WPN3qJx7qnlZ",
        "outputId": "dfce774a-6639-4bce-c557-0918c9684645"
      },
      "source": [
        "from sklearn.model_selection import GridSearchCV\r\n",
        "from sklearn import svm            # SVM is used to predict the model\r\n",
        "param_grid = [\r\n",
        "              {'C':[1,10,100,1000],'kernel':['linear']},\r\n",
        "              {'C':[1,10,100,1000],'gamma':[0.001,0.0001],'kernel':['rbf']},\r\n",
        "]\r\n",
        "\r\n",
        "svc = svm.SVC(probability=True)\r\n",
        "clf = GridSearchCV(svc,param_grid)\r\n",
        "clf.fit(x_train,y_train)"
      ],
      "execution_count": 14,
      "outputs": [
        {
          "output_type": "execute_result",
          "data": {
            "text/plain": [
              "GridSearchCV(cv=None, error_score=nan,\n",
              "             estimator=SVC(C=1.0, break_ties=False, cache_size=200,\n",
              "                           class_weight=None, coef0=0.0,\n",
              "                           decision_function_shape='ovr', degree=3,\n",
              "                           gamma='scale', kernel='rbf', max_iter=-1,\n",
              "                           probability=True, random_state=None, shrinking=True,\n",
              "                           tol=0.001, verbose=False),\n",
              "             iid='deprecated', n_jobs=None,\n",
              "             param_grid=[{'C': [1, 10, 100, 1000], 'kernel': ['linear']},\n",
              "                         {'C': [1, 10, 100, 1000], 'gamma': [0.001, 0.0001],\n",
              "                          'kernel': ['rbf']}],\n",
              "             pre_dispatch='2*n_jobs', refit=True, return_train_score=False,\n",
              "             scoring=None, verbose=0)"
            ]
          },
          "metadata": {
            "tags": []
          },
          "execution_count": 14
        },
        {
          "output_type": "stream",
          "text": [
            "time: 1min 59s (started: 2021-02-22 12:37:32 +00:00)\n"
          ],
          "name": "stdout"
        }
      ]
    },
    {
      "cell_type": "code",
      "metadata": {
        "colab": {
          "base_uri": "https://localhost:8080/"
        },
        "id": "LhOlqqx_qnji",
        "outputId": "22ee8996-edba-4c01-99f2-18858f7f700d"
      },
      "source": [
        "y_pred = clf.predict(x_test)\r\n",
        "y_pred"
      ],
      "execution_count": 15,
      "outputs": [
        {
          "output_type": "execute_result",
          "data": {
            "text/plain": [
              "array([1, 0, 1, 2, 1, 1, 0, 1, 1, 0, 1, 0, 1, 2, 2, 1, 2, 1, 0, 1, 2, 1,\n",
              "       2, 0, 2, 0, 1])"
            ]
          },
          "metadata": {
            "tags": []
          },
          "execution_count": 15
        },
        {
          "output_type": "stream",
          "text": [
            "time: 133 ms (started: 2021-02-22 12:39:31 +00:00)\n"
          ],
          "name": "stdout"
        }
      ]
    },
    {
      "cell_type": "code",
      "metadata": {
        "colab": {
          "base_uri": "https://localhost:8080/"
        },
        "id": "yTAzOdVVqngb",
        "outputId": "e65c1ea2-4947-40f0-ab39-77023a1169bf"
      },
      "source": [
        "y_test"
      ],
      "execution_count": 16,
      "outputs": [
        {
          "output_type": "execute_result",
          "data": {
            "text/plain": [
              "array([1, 0, 1, 2, 2, 1, 0, 1, 1, 0, 1, 0, 1, 2, 2, 1, 2, 1, 0, 1, 2, 2,\n",
              "       2, 0, 0, 0, 1])"
            ]
          },
          "metadata": {
            "tags": []
          },
          "execution_count": 16
        },
        {
          "output_type": "stream",
          "text": [
            "time: 3.15 ms (started: 2021-02-22 12:39:31 +00:00)\n"
          ],
          "name": "stdout"
        }
      ]
    },
    {
      "cell_type": "markdown",
      "metadata": {
        "id": "vDB8GURj0Fyc"
      },
      "source": [
        "**Accuracy score**"
      ]
    },
    {
      "cell_type": "code",
      "metadata": {
        "colab": {
          "base_uri": "https://localhost:8080/"
        },
        "id": "1ktPREzaqneo",
        "outputId": "5387ba60-3e61-4cbf-ccae-920bb1e66164"
      },
      "source": [
        "from sklearn.metrics import accuracy_score,confusion_matrix\r\n",
        "accuracy_score(y_pred,y_test)"
      ],
      "execution_count": 22,
      "outputs": [
        {
          "output_type": "execute_result",
          "data": {
            "text/plain": [
              "0.8888888888888888"
            ]
          },
          "metadata": {
            "tags": []
          },
          "execution_count": 22
        },
        {
          "output_type": "stream",
          "text": [
            "time: 7.1 ms (started: 2021-02-22 12:43:08 +00:00)\n"
          ],
          "name": "stdout"
        }
      ]
    },
    {
      "cell_type": "markdown",
      "metadata": {
        "id": "kCjFlnMM0I3F"
      },
      "source": [
        "**Confusion Matrix**"
      ]
    },
    {
      "cell_type": "code",
      "metadata": {
        "colab": {
          "base_uri": "https://localhost:8080/"
        },
        "id": "ilmD1pegqncJ",
        "outputId": "5e45c818-4b6c-4a6a-e904-d42020004c28"
      },
      "source": [
        "confusion_matrix(y_pred,y_test)"
      ],
      "execution_count": 18,
      "outputs": [
        {
          "output_type": "execute_result",
          "data": {
            "text/plain": [
              "array([[ 7,  0,  0],\n",
              "       [ 0, 11,  2],\n",
              "       [ 1,  0,  6]])"
            ]
          },
          "metadata": {
            "tags": []
          },
          "execution_count": 18
        },
        {
          "output_type": "stream",
          "text": [
            "time: 4.35 ms (started: 2021-02-22 12:39:31 +00:00)\n"
          ],
          "name": "stdout"
        }
      ]
    },
    {
      "cell_type": "markdown",
      "metadata": {
        "id": "qDN--C6G0Obt"
      },
      "source": [
        "**Pickle library to save the model**"
      ]
    },
    {
      "cell_type": "code",
      "metadata": {
        "colab": {
          "base_uri": "https://localhost:8080/"
        },
        "id": "i0yHA0UpqnaL",
        "outputId": "873f0db9-da6d-45f7-e0e9-fed5aefa12df"
      },
      "source": [
        "# Save the model using Pickle library\r\n",
        "\r\n",
        "import pickle\r\n",
        "pickle.dump(clf,open('img_model.p','wb'))  # wb = writing byte"
      ],
      "execution_count": 19,
      "outputs": [
        {
          "output_type": "stream",
          "text": [
            "time: 39.1 ms (started: 2021-02-22 12:39:31 +00:00)\n"
          ],
          "name": "stdout"
        }
      ]
    },
    {
      "cell_type": "code",
      "metadata": {
        "colab": {
          "base_uri": "https://localhost:8080/"
        },
        "id": "JT_59JKTqnXC",
        "outputId": "9f246b33-6ad7-4972-8e32-40509ad7da82"
      },
      "source": [
        "model = pickle.load(open('img_model.p','rb'))   # rb = reading byte"
      ],
      "execution_count": 20,
      "outputs": [
        {
          "output_type": "stream",
          "text": [
            "time: 17.6 ms (started: 2021-02-22 12:39:31 +00:00)\n"
          ],
          "name": "stdout"
        }
      ]
    },
    {
      "cell_type": "markdown",
      "metadata": {
        "id": "Ud-MKh5Y0U1M"
      },
      "source": [
        "**Testing of Images (OUTPUT)**"
      ]
    },
    {
      "cell_type": "code",
      "metadata": {
        "colab": {
          "base_uri": "https://localhost:8080/",
          "height": 337
        },
        "id": "WdLC3NXrqnVW",
        "outputId": "067a9bf6-f8cd-458b-8265-6c610baa49ee"
      },
      "source": [
        "# Testing a brand new image\r\n",
        "flat_data = []\r\n",
        "url = input('Enter your URL')\r\n",
        "img = imread(url)\r\n",
        "img_resized = resize(img,(150,150,3))\r\n",
        "flat_data.append(img_resized.flatten())\r\n",
        "flat_data = np.array(flat_data)\r\n",
        "print(img.shape)\r\n",
        "plt.imshow(img_resized)\r\n",
        "y_out = model.predict(flat_data)\r\n",
        "y_out = CATEGORIES[y_out[0]]\r\n",
        "print(f'PREDICTED OUTPUT: {y_out}')"
      ],
      "execution_count": 21,
      "outputs": [
        {
          "output_type": "stream",
          "text": [
            "Enter your URLhttps://sb-assets.sgp1.cdn.digitaloceanspaces.com/product/main_image/1585/a117243e-b4a3-444f-b793-aad61fb66b05.jpg\n",
            "(1116, 1686, 3)\n",
            "PREDICTED OUTPUT: mango fruit\n"
          ],
          "name": "stdout"
        },
        {
          "output_type": "display_data",
          "data": {
            "image/png": "[encoded data removed]",
            "text/plain": [
              "<Figure size 432x288 with 1 Axes>"
            ]
          },
          "metadata": {
            "tags": [],
            "needs_background": "light"
          }
        },
        {
          "output_type": "stream",
          "text": [
            "time: 1min 2s (started: 2021-02-22 12:39:31 +00:00)\n"
          ],
          "name": "stdout"
        }
      ]
    },
    {
      "cell_type": "code",
      "metadata": {
        "id": "2PO9DpF7t4WP"
      },
      "source": [
        "\r\n"
      ],
      "execution_count": null,
      "outputs": []
    }
  ]
}